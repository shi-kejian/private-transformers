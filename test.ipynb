{
 "cells": [
  {
   "cell_type": "code",
   "execution_count": 42,
   "metadata": {},
   "outputs": [],
   "source": [
    "from transformers import AutoModel, AutoTokenizer, \\\n",
    "BertForSequenceClassification, GPT2LMHeadModel"
   ]
  },
  {
   "cell_type": "code",
   "execution_count": 43,
   "metadata": {},
   "outputs": [
    {
     "name": "stderr",
     "output_type": "stream",
     "text": [
      "Some weights of the model checkpoint at bert-base-uncased were not used when initializing BertForSequenceClassification: ['cls.seq_relationship.weight', 'cls.seq_relationship.bias', 'cls.predictions.transform.LayerNorm.bias', 'cls.predictions.decoder.weight', 'cls.predictions.transform.dense.bias', 'cls.predictions.transform.LayerNorm.weight', 'cls.predictions.bias', 'cls.predictions.transform.dense.weight']\n",
      "- This IS expected if you are initializing BertForSequenceClassification from the checkpoint of a model trained on another task or with another architecture (e.g. initializing a BertForSequenceClassification model from a BertForPreTraining model).\n",
      "- This IS NOT expected if you are initializing BertForSequenceClassification from the checkpoint of a model that you expect to be exactly identical (initializing a BertForSequenceClassification model from a BertForSequenceClassification model).\n",
      "Some weights of BertForSequenceClassification were not initialized from the model checkpoint at bert-base-uncased and are newly initialized: ['classifier.bias', 'classifier.weight']\n",
      "You should probably TRAIN this model on a down-stream task to be able to use it for predictions and inference.\n"
     ]
    }
   ],
   "source": [
    "model = BertForSequenceClassification.from_pretrained('bert-base-uncased')"
   ]
  },
  {
   "cell_type": "code",
   "execution_count": 44,
   "metadata": {},
   "outputs": [],
   "source": [
    "emb = model.bert.embeddings.word_embeddings"
   ]
  },
  {
   "cell_type": "code",
   "execution_count": 45,
   "metadata": {},
   "outputs": [
    {
     "ename": "RuntimeError",
     "evalue": "you can only change requires_grad flags of leaf variables. If you want to use a computed variable in a subgraph that doesn't require differentiation use var_no_grad = var.detach().",
     "output_type": "error",
     "traceback": [
      "\u001b[0;31m---------------------------------------------------------------------------\u001b[0m",
      "\u001b[0;31mRuntimeError\u001b[0m                              Traceback (most recent call last)",
      "\u001b[1;32m/Users/kejian/Documents/GitHub/private-transformers/test.ipynb Cell 4\u001b[0m in \u001b[0;36m<cell line: 15>\u001b[0;34m()\u001b[0m\n\u001b[1;32m      <a href='vscode-notebook-cell:/Users/kejian/Documents/GitHub/private-transformers/test.ipynb#W3sZmlsZQ%3D%3D?line=0'>1</a>\u001b[0m \u001b[39m# print name\u001b[39;00m\n\u001b[1;32m      <a href='vscode-notebook-cell:/Users/kejian/Documents/GitHub/private-transformers/test.ipynb#W3sZmlsZQ%3D%3D?line=1'>2</a>\u001b[0m \u001b[39m# print emb\u001b[39;00m\n\u001b[1;32m      <a href='vscode-notebook-cell:/Users/kejian/Documents/GitHub/private-transformers/test.ipynb#W3sZmlsZQ%3D%3D?line=2'>3</a>\u001b[0m \u001b[39m# print emb.weight\u001b[39;00m\n\u001b[0;32m   (...)\u001b[0m\n\u001b[1;32m     <a href='vscode-notebook-cell:/Users/kejian/Documents/GitHub/private-transformers/test.ipynb#W3sZmlsZQ%3D%3D?line=12'>13</a>\u001b[0m \n\u001b[1;32m     <a href='vscode-notebook-cell:/Users/kejian/Documents/GitHub/private-transformers/test.ipynb#W3sZmlsZQ%3D%3D?line=13'>14</a>\u001b[0m \u001b[39m# freeze training for index 72 of the embedding layer\u001b[39;00m\n\u001b[0;32m---> <a href='vscode-notebook-cell:/Users/kejian/Documents/GitHub/private-transformers/test.ipynb#W3sZmlsZQ%3D%3D?line=14'>15</a>\u001b[0m emb\u001b[39m.\u001b[39mweight[\u001b[39m72\u001b[39m]\u001b[39m.\u001b[39mrequires_grad \u001b[39m=\u001b[39m \u001b[39mFalse\u001b[39;00m\n\u001b[1;32m     <a href='vscode-notebook-cell:/Users/kejian/Documents/GitHub/private-transformers/test.ipynb#W3sZmlsZQ%3D%3D?line=15'>16</a>\u001b[0m \u001b[39m'''\u001b[39;00m\n\u001b[1;32m     <a href='vscode-notebook-cell:/Users/kejian/Documents/GitHub/private-transformers/test.ipynb#W3sZmlsZQ%3D%3D?line=16'>17</a>\u001b[0m \u001b[39mRuntimeError: you can only change requires_grad flags of leaf variables.\u001b[39;00m\n\u001b[1;32m     <a href='vscode-notebook-cell:/Users/kejian/Documents/GitHub/private-transformers/test.ipynb#W3sZmlsZQ%3D%3D?line=17'>18</a>\u001b[0m \u001b[39mIf you want to use a computed variable in a subgraph that doesn't require differentiation use var_no_grad = var.detach()\u001b[39;00m\n\u001b[1;32m     <a href='vscode-notebook-cell:/Users/kejian/Documents/GitHub/private-transformers/test.ipynb#W3sZmlsZQ%3D%3D?line=18'>19</a>\u001b[0m \u001b[39m可能需要用另一个办法, 记住initial value然后每次backpropagation之后再赋值回去\u001b[39;00m\n\u001b[1;32m     <a href='vscode-notebook-cell:/Users/kejian/Documents/GitHub/private-transformers/test.ipynb#W3sZmlsZQ%3D%3D?line=19'>20</a>\u001b[0m \u001b[39m'''\u001b[39;00m\n",
      "\u001b[0;31mRuntimeError\u001b[0m: you can only change requires_grad flags of leaf variables. If you want to use a computed variable in a subgraph that doesn't require differentiation use var_no_grad = var.detach()."
     ]
    }
   ],
   "source": [
    "\n",
    "# freeze training for index 72 of the embedding layer\n",
    "emb.weight[72].requires_grad = False\n",
    "'''\n",
    "RuntimeError: you can only change requires_grad flags of leaf variables.\n",
    "If you want to use a computed variable in a subgraph that doesn't require differentiation use var_no_grad = var.detach()\n",
    "可能需要用另一个办法, 记住initial value然后每次backpropagation之后再赋值回去\n",
    "'''\n",
    "\n",
    "# # make a copy of the initial value\n",
    "# initial_value = emb.weight[72].clone()\n",
    "# # print(emb.weight[72])\n",
    "# # print(emb.weight[72].requires_grad)\n",
    "# initial_value = initial_value.detach()\n",
    "# initial_value.shape\n",
    "\n"
   ]
  },
  {
   "cell_type": "code",
   "execution_count": null,
   "metadata": {},
   "outputs": [],
   "source": [
    "# train the model on SST-2\n",
    "from datasets import load_dataset\n",
    "from transformers import Trainer, TrainingArguments\n",
    "\n",
    "dataset = load_dataset('glue', 'sst2')\n",
    "tokenizer = AutoTokenizer.from_pretrained('bert-base-uncased')\n",
    "\n",
    "def tokenize_function(examples):\n",
    "    return tokenizer(examples['sentence'], padding='max_length', truncation=True)\n",
    "\n",
    "tokenized_dataset = dataset.map(tokenize_function, batched=True)\n",
    "small_train_dataset = tokenized_dataset['train'].shuffle(seed=42).select(range(100))\n",
    "small_eval_dataset = tokenized_dataset['validation'].shuffle(seed=42).select(range(100))\n",
    "\n",
    "training_args = TrainingArguments(\n",
    "    output_dir='./results',          # output directory\n",
    "    num_train_epochs=3,              # total # of training epochs\n",
    "    per_device_train_batch_size=16,  # batch size per device during training\n",
    "    per_device_eval_batch_size=64,   # batch size for evaluation\n",
    "    warmup_steps=500,                # number of warmup steps for learning rate scheduler\n",
    "    weight_decay=0.01,               # strength of weight decay\n",
    "    logging_dir='./logs',            # directory for storing logs\n",
    "    logging_steps=10,\n",
    ")\n",
    "\n",
    "trainer = Trainer(\n",
    "    model=model,                         # the instantiated 🤗 Transformers model to be trained\n",
    "    args=training_args,                  # training arguments, defined above\n",
    "    train_dataset=small_train_dataset,         # training dataset\n",
    "    eval_dataset=small_eval_dataset,           # evaluation dataset\n",
    ")\n",
    "\n",
    "trainer.train()\n",
    "\n",
    "# change training loop to freeze the embedding layer\n",
    "# https://huggingface.co/transformers/main_classes/trainer.html#training-loop\n",
    "# https://huggingface.co/transformers/main_classes/trainer.html#trainercallback\n",
    "# https://huggingface.co/transformers/main_classes/callback.html#transformers.TrainerCallback\n",
    "# https://huggingface.co/transformers/main_classes/callback.html#transformers.TrainerState\n",
    "# https://huggingface.co/transformers/main_classes/callback.html#transformers.TrainerControl\n",
    "# https://huggingface.co/transformers/main_classes/callback.html#transformers.TrainerState\n",
    "\n",
    "from transformers import TrainerCallback, TrainerControl, TrainerState\n",
    "\n",
    "class FreezeEmbeddingCallback(TrainerCallback):\n",
    "    def on_step_end(self, args, state, control, **kwargs):\n",
    "        # print(state)\n",
    "        # print(control)\n",
    "        # print(state.model.bert.embeddings.word_embeddings.weight[72])\n",
    "        # print(state.model.bert.embeddings.word_embeddings.weight[72].requires_grad)\n",
    "        # print(initial_value)\n",
    "        # print(initial_value.shape)\n",
    "        # print(state.model.bert.embeddings.word_embeddings.weight[72].shape)\n",
    "        state.model.bert.embeddings.word_embeddings.weight[72] = initial_value\n",
    "        # print(state.model.bert.embeddings.word_embeddings.weight[72])\n",
    "        # print(state.model.bert.embeddings.word_embeddings.weight[72].requires_grad)\n",
    "\n",
    "training_args = TrainingArguments(\n",
    "    output_dir='./results',          # output directory\n",
    "    num_train_epochs=3,              # total # of training epochs\n",
    "    per_device_train_batch_size=16,  # batch size per device during training\n",
    "    per_device_eval_batch_size=64,   # batch size for evaluation\n",
    "    warmup_steps=500,                # number of warmup steps for learning rate scheduler\n",
    "    weight_decay=0.01,               # strength of weight decay\n",
    "    logging_dir='./logs',            # directory for storing logs\n",
    "    logging_steps=10,\n",
    ")\n",
    "\n",
    "trainer = Trainer(\n",
    "    model=model,                         # the instantiated 🤗 Transformers model to be trained\n",
    "    args=training_args,                  # training arguments, defined above\n",
    "    train_dataset=small_train_dataset,         # training dataset\n",
    "    eval_dataset=small_eval_dataset,           # evaluation dataset\n",
    "    callbacks=[FreezeEmbeddingCallback()]\n",
    ")\n",
    "\n",
    "trainer.train()\n",
    "\n",
    "\n"
   ]
  }
 ],
 "metadata": {
  "kernelspec": {
   "display_name": "Python 3.9.12 ('base')",
   "language": "python",
   "name": "python3"
  },
  "language_info": {
   "codemirror_mode": {
    "name": "ipython",
    "version": 3
   },
   "file_extension": ".py",
   "mimetype": "text/x-python",
   "name": "python",
   "nbconvert_exporter": "python",
   "pygments_lexer": "ipython3",
   "version": "3.9.12"
  },
  "orig_nbformat": 4,
  "vscode": {
   "interpreter": {
    "hash": "3155e22e786c224507d8d9adc5c55cbe0fe649cfe9dfc38e3e23a7f55e2b6af4"
   }
  }
 },
 "nbformat": 4,
 "nbformat_minor": 2
}
